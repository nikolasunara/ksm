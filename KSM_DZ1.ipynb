{
 "cells": [
  {
   "cell_type": "code",
   "execution_count": 8,
   "metadata": {},
   "outputs": [
    {
     "name": "stdout",
     "output_type": "stream",
     "text": [
      "0 \n",
      "1 UWJIRJY\n",
      "2 VXKJSKZ\n",
      "3 WYLKTLA\n",
      "4 XZMLUMB\n",
      "5 YANMVNC\n",
      "6 ZBONWOD\n",
      "7 ACPOXPE\n",
      "8 BDQPYQF\n",
      "9 CERQZRG\n",
      "10 DFSRASH\n",
      "11 EGTSBTI\n",
      "12 FHUTCUJ\n",
      "13 GIVUDVK\n",
      "14 HJWVEWL\n",
      "15 IKXWFXM\n",
      "16 JLYXGYN\n",
      "17 KMZYHZO\n",
      "18 LNAZIAP\n",
      "19 MOBAJBQ\n",
      "20 NPCBKCR\n",
      "21 OQDCLDS\n",
      "22 PREDMET\n",
      "23 QSFENFU\n",
      "24 RTGFOGV\n",
      "25 SUHGPHW\n"
     ]
    }
   ],
   "source": [
    "def next_alpha(s):\n",
    "    return chr((ord(s.upper())+1 - 65) % 26 + 65)\n",
    "\n",
    "\n",
    "for i in range(26):\n",
    "    new_word = \"\"\n",
    "    new_alpha = \"\"\n",
    "    for s in 'TVIHQIX':\n",
    "        for k in range(i):\n",
    "            if k == 0:\n",
    "                new_alpha = s\n",
    "            new_alpha = next_alpha( new_alpha )\n",
    "            \n",
    "        new_word += new_alpha\n",
    "        \n",
    "    print( i, new_word )\n"
   ]
  },
  {
   "cell_type": "code",
   "execution_count": 9,
   "metadata": {},
   "outputs": [
    {
     "data": {
      "text/plain": [
       "{'A': 8,\n",
       " 'B': 0,\n",
       " 'C': 1,\n",
       " 'D': 2,\n",
       " 'E': 2,\n",
       " 'F': 17,\n",
       " 'G': 5,\n",
       " 'H': 16,\n",
       " 'I': 7,\n",
       " 'J': 6,\n",
       " 'K': 0,\n",
       " 'L': 13,\n",
       " 'M': 3,\n",
       " 'N': 3,\n",
       " 'O': 9,\n",
       " 'P': 3,\n",
       " 'Q': 5,\n",
       " 'R': 6,\n",
       " 'S': 3,\n",
       " 'T': 0,\n",
       " 'U': 2,\n",
       " 'V': 12,\n",
       " 'W': 2,\n",
       " 'X': 7,\n",
       " 'Y': 6,\n",
       " 'Z': 0}"
      ]
     },
     "execution_count": 9,
     "metadata": {},
     "output_type": "execute_result"
    }
   ],
   "source": [
    "rijec = \"OHWLYYVRAIFAWVPFJROVLJAHIQISVAFRXLYVXYOFNVHXIFQAHNILEFOFJXHOHOOVMLHSVGFXFMHQIFYHRQHGFLGELUVAFCPJQFRLHOVFHLGXVPFOFAVUFHYLNGLRJXLHDJMHASHILD\"\n",
    "\n",
    "broj_slova = { \"A\" : 0,\n",
    "             \"B\" : 0,\n",
    "             \"C\" : 0,\n",
    "             \"D\" : 0,\n",
    "             \"E\" : 0,\n",
    "             \"F\" : 0,\n",
    "             \"G\" : 0,\n",
    "             \"H\" : 0,\n",
    "             \"I\" : 0,\n",
    "             \"J\" : 0,\n",
    "             \"K\" : 0,\n",
    "             \"L\" : 0,\n",
    "             \"M\" : 0,\n",
    "             \"N\" : 0,\n",
    "             \"O\" : 0,\n",
    "             \"P\" : 0,\n",
    "             \"Q\" : 0,\n",
    "             \"R\" : 0,\n",
    "             \"S\" : 0,\n",
    "             \"T\" : 0,\n",
    "             \"U\" : 0,\n",
    "             \"V\" : 0,\n",
    "             \"W\" : 0,\n",
    "             \"X\" : 0,\n",
    "             \"Y\" : 0,\n",
    "             \"Z\" : 0} \n",
    "\n",
    "for i in range ( len( rijec ) ):\n",
    "    broj_slova[ rijec[i] ] += 1\n",
    "    \n",
    "broj_slova"
   ]
  },
  {
   "cell_type": "markdown",
   "metadata": {},
   "source": [
    "Najfrekventniji su redom: F(17), H(16), L(13), V(12), O(9)."
   ]
  },
  {
   "cell_type": "code",
   "execution_count": 17,
   "metadata": {},
   "outputs": [
    {
     "name": "stdout",
     "output_type": "stream",
     "text": [
      "A: IWHFHFVS\n",
      "A: IWHFHFVS\n",
      "C: P\n",
      "D: J\n",
      "E: FL\n",
      "F: AJRNQOJXMYLCRHOAH\n",
      "G: FFEXL\n",
      "H: WIXNOOSQRGOLYDAI\n",
      "I: FQSFLFL\n",
      "J: RAXQXM\n",
      "J: RAXQXM\n",
      "L: YJYEHGUHGNRHD\n",
      "M: LHH\n",
      "N: VIG\n",
      "O: HVFFHOVVF\n",
      "P: FJF\n",
      "Q: IAIHF\n",
      "R: AOXQLJ\n",
      "S: VVH\n",
      "S: VVH\n",
      "U: VF\n",
      "V: RPLAXHMGAFPU\n",
      "W: LV\n",
      "X: LYIHFVL\n",
      "Y: YVVOHL\n",
      "Y: YVVOHL\n"
     ]
    }
   ],
   "source": [
    "for slovo in broj_slova:\n",
    "    prvi = 1\n",
    "    for i in range ( len( rijec ) ):\n",
    "        if slovo == rijec[i]:\n",
    "            if prvi == 1:\n",
    "                ispis = slovo + \": \"\n",
    "                prvi = 0\n",
    "            if i+1 < len(rijec):\n",
    "                ispis += rijec[i+1]\n",
    "    print(ispis)"
   ]
  },
  {
   "cell_type": "markdown",
   "metadata": {},
   "source": [
    "Najfrekventniji bigrami su: OF(3), OV(3), LH(3), IF(3), HO(3), AF(2), FA(2), FJ(2), FH(2), FR(2), FO(2), GF(2), HI(2), IL(2), JX(2), LY(2), LG(2), MH(2), OH(2), PF(2), QI(2), SV(2), VP(2), VA(2), YV(2)."
   ]
  },
  {
   "cell_type": "code",
   "execution_count": 29,
   "metadata": {},
   "outputs": [
    {
     "name": "stdout",
     "output_type": "stream",
     "text": [
      "1 5 JCRGTTQMVDAVRQKAEMJQGEVCDLDNQVAMSGTQSTJAIQCSDALVCIDGZAJAESCJCJJQHGCNQBASAHCLDATCMLCBAGBZGPQVAXKELAMGCJQACGBSQKAJAVQPACTGIBGMESGCYEHCVNCDGY\n",
      "1 7 HAPERROKTBYTPOIYCKHOECTABJBLOTYKQEROQRHYGOAQBYJTAGBEXYHYCQAHAHHOFEALOZYQYFAJBYRAKJAZYEZXENOTYVICJYKEAHOYAEZQOIYHYTONYAREGZEKCQEAWCFATLABEW\n",
      "1 11 DWLANNKGPXUPLKEUYGDKAYPWXFXHKPUGMANKMNDUCKWMXUFPWCXATUDUYMWDWDDKBAWHKVUMUBWFXUNWGFWVUAVTAJKPUREYFUGAWDKUWAVMKEUDUPKJUWNACVAGYMAWSYBWPHWXAS\n",
      "9 5 DSXCPPOEHBAHXOMAKEDOCKHSBVBNOHAEGCPOGPDAUOSGBAVHSUBCRADAKGSDSDDOLCSNOJAGALSVBAPSEVSJACJRCFOHAZMKVAECSDOASCJGOMADAHOFASPCUJCEKGCSIKLSHNSBCI\n",
      "9 7 LAFKXXWMPJIPFWUISMLWKSPAJDJVWPIMOKXWOXLICWAOJIDPACJKZILISOALALLWTKAVWRIOITADJIXAMDARIKRZKNWPIHUSDIMKALWIAKROWUILIPWNIAXKCRKMSOKAQSTAPVAJKQ\n",
      "9 11 BQVANNMCFZYFVMKYICBMAIFQZTZLMFYCEANMENBYSMQEZYTFQSZAPYBYIEQBQBBMJAQLMHYEYJQTZYNQCTQHYAHPADMFYXKITYCAQBMYQAHEMKYBYFMDYQNASHACIEAQGIJQFLQZAG\n",
      "21 5 HQTWJJYSZLAZTYCAGSHYWGZQLXLNYZASOWJYOJHAMYQOLAXZQMLWFAHAGOQHQHHYRWQNYVAOARQXLAJQSXQVAWVFWDYZAPCGXASWQHYAQWVOYCAHAZYDAQJWMVWSGOWQKGRQZNQLWK\n",
      "21 7 RADGTTICJVKJDIMKQCRIGQJAVHVXIJKCYGTIYTRKWIAYVKHJAWVGPKRKQYARARRIBGAXIFKYKBAHVKTACHAFKGFPGNIJKZMQHKCGARIKAGFYIMKRKJINKATGWFGCQYGAUQBAJXAVGU\n",
      "21 11 LUXANNCWDPEDXCGEKWLCAKDUPBPRCDEWSANCSNLEQCUSPEBDUQPAJELEKSULULLCVAURCZESEVUBPENUWBUZEAZJAHCDETGKBEWAULCEUAZSCGELEDCHEUNAQZAWKSAUOKVUDRUPAO\n",
      "15 5 FEVMZZGYDTADVGUAIYFGMIDETJTNGDAYKMZGKZFAQGEKTAJDEQTMLAFAIKEFEFFGBMENGPAKABEJTAZEYJEPAMPLMRGDAHUIJAYMEFGAEMPKGUAFADGRAEZMQPMYIKMEWIBEDNETMW\n",
      "15 7 BARIVVCUZPWZRCQWEUBCIEZAPFPJCZWUGIVCGVBWMCAGPWFZAMPIHWBWEGABABBCXIAJCLWGWXAFPWVAUFALWILHINCZWDQEFWUIABCWAILGCQWBWZCNWAVIMLIUEGIASEXAZJAPIS\n",
      "15 11 TSJANNUMRHORJUIOWMTUAWRSHXHBUROMYANUYNTOEUSYHOXRSEHAZOTOWYSTSTTUPASBUDOYOPSXHONSMXSDOADZAFUROVIWXOMASTUOSADYUIOTORUFOSNAEDAMWYASKWPSRBSHAK\n",
      "3 5 BGZSFFWKLJALZWEAMKBWSMLGJHJNWLAKCSFWCFBAYWGCJAHLGYJSXABAMCGBGBBWVSGNWDACAVGHJAFGKHGDASDXSTWLAREMHAKSGBWAGSDCWEABALWTAGFSYDSKMCSGUMVGLNGJSU\n",
      "3 7 VATMZZQEFDUFTQYUGEVQMGFADBDHQFUEWMZQWZVUSQAWDUBFASDMRUVUGWAVAVVQPMAHQXUWUPABDUZAEBAXUMXRMNQFULYGBUEMAVQUAMXWQYUVUFQNUAZMSXMEGWMAOGPAFHADMO\n",
      "3 11 JOHANNESTRITHEMIUSJEAUTORPRVETISKANEKNJIGEOKRIPTOGRAFIJIUKOJOJJEDAOVELIKIDOPRINOSPOLIALFABETIZMUPISAOJEIOALKEMIJITEBIONAGLASUKAOCUDOTVORAC\n",
      "19 5 PMLKXXSUJFAJLSIAYUPSKYJMFBFNSJAUEKXSEXPAWSMEFABJMWFKHAPAYEMPMPPSDKMNSTAEADMBFAXMUBMTAKTHKZSJAVIYBAUKMPSAMKTESIAPAJSZAMXKWTKUYEKMOYDMJNMFKO\n",
      "19 7 DAZYLLGIXTOXZGWOMIDGYMXATPTBGXOISYLGSLDOKGASTOPXAKTYVODOMSADADDGRYABGHOSORAPTOLAIPAHOYHVYNGXOJWMPOIYADGOAYHSGWODOXGNOALYKHYIMSYACMRAXBATYC\n",
      "19 11 FCBANNIKZVQZBIYQOKFIAOZCVRVDIZQKUANIUNFQMICUVQRZCMVAXQFQOUCFCFFITACDIJQUQTCRVQNCKRCJQAJXAPIZQLYORQKACFIQCAJUIYQFQZIPQCNAMJAKOUACEOTCZDCVAE\n",
      "7 5 LOPQDDIGRVARPISACGLIQCROVZVNIRAGWQDIWDLAEIOWVAZROEVQTALACWOLOLLIXQONIHAWAXOZVADOGZOHAQHTQBIRAFSCZAGQOLIAOQHWISALARIBAODQEHQGCWQOMCXORNOVQM\n",
      "7 7 XABCPPUSDHMDBUEMOSXUCODAHLHZUDMSICPUIPXMQUAIHMLDAQHCFMXMOIAXAXXUJCAZUTMIMJALHMPASLATMCTFCNUDMREOLMSCAXUMACTIUEMXMDUNMAPCQTCSOICAYOJADZAHCY\n",
      "7 11 VYZANNSQBFKBZSCKMQVSAMBYFJFXSBKQGANSGNVKOSYGFKJBYOFADKVKMGYVYVVSHAYXSRKGKHYJFKNYQJYRKARDALSBKPCMJKQAYVSKYARGSCKVKBSLKYNAORAQMGAYWMHYBXYFAW\n",
      "23 5 ZUBIVVEQPRAPBEWAOQZEIOPURTRNEPAQYIVEYVZACEUYRATPUCRIDAZAOYUZUZZEFIUNEXAYAFUTRAVUQTUXAIXDIHEPAJWOTAQIUZEAUIXYEWAZAPEHAUVICXIQOYIUGOFUPNURIG\n",
      "23 7 FAHOBBKWVXGVHKCGUWFKOUVAXZXTKVGWEOBKEBFGIKAEXGZVAIXOJGFGUEAFAFFKLOATKDGEGLAZXGBAWZADGODJONKVGPCUZGWOAFKGAODEKCGFGVKNGABOIDOWUEOAMULAVTAXOM\n",
      "23 11 RMTANNWIHJSHTWOSGIRWAGHMJLJFWHSIQANWQNRSUWMQJSLHMUJAVSRSGQMRMRRWXAMFWPSQSXMLJSNMILMPSAPVAZWHSBOGLSIAMRWSMAPQWOSRSHWZSMNAUPAIGQAMYGXMHFMJAY\n",
      "11 5 VWFOBBUCXHAXFUGASCVUOSXWHRHNUXACQOBUQBVAKUWQHARXWKHOPAVASQWVWVVUZOWNULAQAZWRHABWCRWLAOLPOJUXATGSRACOWVUAWOLQUGAVAXUJAWBOKLOCSQOWESZWXNWHOE\n",
      "11 7 ZAJSFFYGBLEBJYKEWGZYSWBALVLRYBEGUSFYUFZEOYAULEVBAOLSTEZEWUAZAZZYDSARYPEUEDAVLEFAGVAPESPTSNYBEXKWVEGSAZYEASPUYKEZEBYNEAFSOPSGWUSAIWDABRALSI\n",
      "11 11 HIRANNGOJTMJRGSMEOHGAEJITDTZGJMOCANGCNHMWGICTMDJIWTABMHMECIHIHHGLAIZGXMCMLIDTMNIODIXMAXBAVGJMFSEDMOAIHGMIAXCGSMHMJGVMINAWXAOECAIQELIJZITAQ\n",
      "5 5 TKHERRCIBPABHCYAUITCEUBKPDPNCBAIMERCMRTAOCKMPADBKOPEVATAUMKTKTTCJEKNCFAMAJKDPARKIDKFAEFVEXCBALYUDAIEKTCAKEFMCYATABCXAKREOFEIUMEKQUJKBNKPEQ\n",
      "5 7 JAXUHHSYRFQRXSOQKYJSUKRAFTFDSRQYCUHSCHJQESACFQTRAEFULQJQKCAJAJJSZUADSVQCQZATFQHAYTAVQUVLUNSRQBOKTQYUAJSQAUVCSOQJQRSNQAHUEVUYKCUAGKZARDAFUG\n",
      "5 11 PGDANNYEXLWXDYUWQEPYAQXGLZLJYXWEIANYINPWKYGILWZXGKLARWPWQIGPGPPYFAGJYBWIWFGZLWNGEZGBWABRATYXWHUQZWEAGPYWGABIYUWPWXYTWGNAKBAEQIAGMQFGXJGLAM\n",
      "17 5 XIDYLLMWTZATDMOAQWXMYQTIZFZNMTAWUYLMULXAGMIUZAFTIGZYJAXAQUIXIXXMPYINMRAUAPIFZALIWFIRAYRJYVMTABOQFAWYIXMAIYRUMOAXATMVAILYGRYWQUYISQPITNIZYS\n",
      "17 7 PAVQDDEOLRSLVEGSIOPEQILARXRFELSOMQDEMDPSYEAMRSXLAYRQBSPSIMAPAPPEHQAFEJSMSHAXRSDAOXAJSQJBQNELSTGIXSOQAPESAQJMEGSPSLENSADQYJQOIMQAKIHALFARQK\n",
      "17 11 ZKFANNOYVBCVFOQCSYZOASVKBHBPOVCYWANOWNZCIOKWBCHVKIBALCZCSWKZKZZORAKPOTCWCRKHBCNKYHKTCATLAXOVCDQSHCYAKZOCKATWOQCZCVOXCKNAITAYSWAKUSRKVPKBAU\n",
      "25 5 RYJUHHKOFXAFJKQAWORKUWFYXPXNKFAOIUHKIHRASKYIXAPFYSXUBARAWIYRYRRKTUYNKZAIATYPXAHYOPYZAUZBULKFADQWPAOUYRKAYUZIKQARAFKLAYHUSZUOWIUYCWTYFNYXUC\n",
      "25 7 TALWJJMQHZCHLMSCYQTMWYHAZRZPMHCQKWJMKJTCUMAKZCRHAUZWDCTCYKATATTMVWAPMBCKCVARZCJAQRABCWBDWNMHCFSYRCQWATMCAWBKMSCTCHMNCAJWUBWQYKWAEYVAHPAZWE\n",
      "25 11 XEPANNQULDGLPQWGCUXQACLEDVDTQLGUOANQONXGYQEODGVLEYDAHGXGCOEXEXXQZAETQFGOGZEVDGNEUVEFGAFHARQLGJWCVGUAEXQGEAFOQWGXGLQRGENAYFAUCOAEICZELTEDAI\n"
     ]
    }
   ],
   "source": [
    "rjecnik = { \"A\" : 0,\n",
    "             \"B\" : 1,\n",
    "             \"C\" : 2,\n",
    "             \"D\" : 3,\n",
    "             \"E\" : 4,\n",
    "             \"F\" : 5,\n",
    "             \"G\" : 6,\n",
    "             \"H\" : 7,\n",
    "             \"I\" : 8,\n",
    "             \"J\" : 9,\n",
    "             \"K\" : 10,\n",
    "             \"L\" : 11,\n",
    "             \"M\" : 12,\n",
    "             \"N\" : 13,\n",
    "             \"O\" : 14,\n",
    "             \"P\" : 15,\n",
    "             \"Q\" : 16,\n",
    "             \"R\" : 17,\n",
    "             \"S\" : 18,\n",
    "             \"T\" : 19,\n",
    "             \"U\" : 20,\n",
    "             \"V\" : 21,\n",
    "             \"W\" : 22,\n",
    "             \"X\" : 23,\n",
    "             \"Y\" : 24,\n",
    "             \"Z\" : 25} \n",
    "\n",
    "i_rjecnik = { 0 : \"A\",\n",
    "             1 : \"B\",\n",
    "             2 : \"C\",\n",
    "             3 : \"D\",\n",
    "             4 : \"E\",\n",
    "             5 : \"F\",\n",
    "             6 : \"G\",\n",
    "             7 : \"H\",\n",
    "             8 : \"I\",\n",
    "             9 : \"J\",\n",
    "             10 : \"K\",\n",
    "             11 : \"L\",\n",
    "             12 : \"M\",\n",
    "             13 : \"N\",\n",
    "             14 : \"O\",\n",
    "             15 : \"P\",\n",
    "             16 : \"Q\",\n",
    "             17 : \"R\",\n",
    "             18 : \"S\",\n",
    "             19 : \"T\",\n",
    "             20 : \"U\",\n",
    "             21 : \"V\",\n",
    "             22 : \"W\",\n",
    "             23 : \"X\",\n",
    "             24 : \"Y\",\n",
    "             25 : \"Z\"} \n",
    "\n",
    "for a in [1,9,21,15,3,19,7,23,11,5,17,25]:\n",
    "    for b in [5,7,11]: #range(26):\n",
    "        nova_rijec = \"\"\n",
    "        for i in range( len( rijec ) ):\n",
    "\n",
    "            nova_rijec += i_rjecnik[a * (rjecnik[ rijec[i] ] - b) % 26]\n",
    "\n",
    "        print(a,b,nova_rijec)"
   ]
  },
  {
   "cell_type": "markdown",
   "metadata": {},
   "source": [
    "e(I) = F, e(O) = H, e(A) = L, e(E) = V, e(J) = O . ljuč k = (a, b) = (9, 11)."
   ]
  },
  {
   "cell_type": "markdown",
   "metadata": {},
   "source": [
    "Orginalni tekst je: JOHANNES TRITHEMIUS JE AUTOR PRVE TISKANE KNJIGE O KRIPTOGRAFIJI U KOJOJ JE DAO VELIKI DOPRINOS POLIALFABETIZMU PISAO JE I O ALKEMIJI TE BIO NA GLASU KAO CUDOTVORAC"
   ]
  },
  {
   "cell_type": "code",
   "execution_count": 2,
   "metadata": {},
   "outputs": [
    {
     "data": {
      "text/plain": [
       "{'A': 5,\n",
       " 'B': 5,\n",
       " 'C': 8,\n",
       " 'D': 8,\n",
       " 'E': 5,\n",
       " 'F': 3,\n",
       " 'G': 1,\n",
       " 'H': 0,\n",
       " 'I': 0,\n",
       " 'J': 0,\n",
       " 'K': 7,\n",
       " 'L': 1,\n",
       " 'M': 7,\n",
       " 'N': 4,\n",
       " 'O': 8,\n",
       " 'P': 0,\n",
       " 'Q': 5,\n",
       " 'R': 9,\n",
       " 'S': 4,\n",
       " 'T': 16,\n",
       " 'U': 8,\n",
       " 'V': 11,\n",
       " 'W': 1,\n",
       " 'X': 4,\n",
       " 'Y': 0,\n",
       " 'Z': 22}"
      ]
     },
     "execution_count": 2,
     "metadata": {},
     "output_type": "execute_result"
    }
   ],
   "source": [
    "rijec1 = \"GZBBZMRWKZTSRMOARMCKMATOMDFTQZRMRTKZQUZRUKZNCVBVXVREUODZLZZOSTUAUVZOQZSTOQZDTZODTXVFTNKZRDTOTEUKZNCVBVXZDZEFTVDTACMCZACZQUTRTCVSTEUKZNCVBVXZDE\"\n",
    "\n",
    "broj_slova1 = { \"A\" : 0,\n",
    "             \"B\" : 0,\n",
    "             \"C\" : 0,\n",
    "             \"D\" : 0,\n",
    "             \"E\" : 0,\n",
    "             \"F\" : 0,\n",
    "             \"G\" : 0,\n",
    "             \"H\" : 0,\n",
    "             \"I\" : 0,\n",
    "             \"J\" : 0,\n",
    "             \"K\" : 0,\n",
    "             \"L\" : 0,\n",
    "             \"M\" : 0,\n",
    "             \"N\" : 0,\n",
    "             \"O\" : 0,\n",
    "             \"P\" : 0,\n",
    "             \"Q\" : 0,\n",
    "             \"R\" : 0,\n",
    "             \"S\" : 0,\n",
    "             \"T\" : 0,\n",
    "             \"U\" : 0,\n",
    "             \"V\" : 0,\n",
    "             \"W\" : 0,\n",
    "             \"X\" : 0,\n",
    "             \"Y\" : 0,\n",
    "             \"Z\" : 0} \n",
    "\n",
    "for i in range ( len( rijec1 ) ):\n",
    "    broj_slova1[ rijec1[i] ] += 1\n",
    "    \n",
    "broj_slova1"
   ]
  },
  {
   "cell_type": "markdown",
   "metadata": {},
   "source": [
    "Najfrekventnija slova su: Z(22), T(16), V(11), R(9), O, C, D, U(8)."
   ]
  },
  {
   "cell_type": "code",
   "execution_count": 36,
   "metadata": {},
   "outputs": [
    {
     "name": "stdout",
     "output_type": "stream",
     "text": [
      "A: RTUCC\n",
      "B: BZVVV\n",
      "C: KVVMZZVV\n",
      "D: FZTTTZTE\n",
      "E: UUFU\n",
      "F: TTT\n",
      "G: Z\n",
      "G: Z\n",
      "G: Z\n",
      "G: Z\n",
      "K: ZMZZZZZ\n",
      "L: Z\n",
      "M: ROCADRC\n",
      "N: CKCC\n",
      "O: AMDSQQDT\n",
      "O: AMDSQQDT\n",
      "Q: ZUZZU\n",
      "R: WMMMTUEDT\n",
      "S: RTTT\n",
      "T: SOQKUOZXNOEVARCE\n",
      "U: ZKOAVKTK\n",
      "V: BXRZFBXDSBX\n",
      "W: K\n",
      "X: VVZZ\n",
      "X: VVZZ\n",
      "Z: BMTRQRNLZOOSDORNDEAQND\n"
     ]
    }
   ],
   "source": [
    "for slovo in broj_slova1:\n",
    "    prvi = 1\n",
    "    for i in range ( len( rijec1 ) ):\n",
    "        if slovo == rijec1[i]:\n",
    "            if prvi == 1:\n",
    "                ispis1 = slovo + \": \"\n",
    "                prvi = 0\n",
    "            if i+1 < len(rijec1):\n",
    "                ispis1 += rijec1[i+1]\n",
    "    print(ispis1)"
   ]
  },
  {
   "cell_type": "markdown",
   "metadata": {},
   "source": [
    "Najfrekventniji bigrami su: KZ(6), DT(4), CV(4), BV(3), EU(3), FT(3), NC(3), QZ(3), RM(3), ST(3), TO(3), UK(3), VB(3), VX(3), ZR(3), ZN(3), ZO(3), ZD(3)"
   ]
  },
  {
   "cell_type": "code",
   "execution_count": 45,
   "metadata": {},
   "outputs": [
    {
     "data": {
      "text/plain": [
       "'WILLIAMFRIEDMANSMATRASENAJVECIMAMERICKIMKRIPTOLOGOMUKNJIZIINDEKSKOINCIDENCIJEINJEGOVEPRIMJENEUKRIPTOLOGIJIUVEOJESTATISTICKEMETODEUKRIPTOLOGIJU'"
      ]
     },
     "execution_count": 45,
     "metadata": {},
     "output_type": "execute_result"
    }
   ],
   "source": [
    "zamjena = {  \"A\" : 'S',\n",
    "             \"B\" : 'L',\n",
    "             \"C\" : 'T',\n",
    "             \"D\" : 'J',\n",
    "             \"E\" : 'U',\n",
    "             \"F\" : 'V',\n",
    "             \"G\" : 'W',\n",
    "             \"H\" : 'X',\n",
    "             \"I\" : 'Q',\n",
    "             \"J\" : 'Y',\n",
    "             \"K\" : 'R',\n",
    "             \"L\" : 'Z',\n",
    "             \"M\" : 'A',\n",
    "             \"N\" : 'P',\n",
    "             \"O\" : 'N',\n",
    "             \"P\" : 'Q',\n",
    "             \"Q\" : 'C',\n",
    "             \"R\" : 'M',\n",
    "             \"S\" : 'D',\n",
    "             \"T\" : 'E',\n",
    "             \"U\" : 'K',\n",
    "             \"V\" : 'O',\n",
    "             \"W\" : 'F',\n",
    "             \"X\" : 'G',\n",
    "             \"Y\" : 'H',\n",
    "             \"Z\" : 'I'} \n",
    "izvorni_tekst = \"\"\n",
    "\n",
    "for i in range( len( rijec1 ) ):\n",
    "    izvorni_tekst += zamjena[ rijec1[i] ]\n",
    "    \n",
    "izvorni_tekst"
   ]
  },
  {
   "cell_type": "markdown",
   "metadata": {},
   "source": [
    "Orginalni tekst: WILLIAM FRIEDMAN SMATRA SE NAJVECIM AMERICKIM KRIPTOLOGOM U KNJIZI INDEKS KOINCIDENCIJE I NJEGOVE PRIMJENE U KRIPTOLOGIJI UVEO JE STATISTICKE METODE U KRIPTOLOGIJU\n",
    "\n",
    "Ključ: ( DUBROVNIK, 9 )"
   ]
  }
 ],
 "metadata": {
  "kernelspec": {
   "display_name": "Python 3",
   "language": "python",
   "name": "python3"
  },
  "language_info": {
   "codemirror_mode": {
    "name": "ipython",
    "version": 3
   },
   "file_extension": ".py",
   "mimetype": "text/x-python",
   "name": "python",
   "nbconvert_exporter": "python",
   "pygments_lexer": "ipython3",
   "version": "3.7.7"
  }
 },
 "nbformat": 4,
 "nbformat_minor": 4
}
