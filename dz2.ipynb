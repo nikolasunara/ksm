{
 "cells": [
  {
   "cell_type": "code",
   "execution_count": 1,
   "metadata": {},
   "outputs": [],
   "source": [
    "import numpy as np"
   ]
  },
  {
   "cell_type": "code",
   "execution_count": 2,
   "metadata": {},
   "outputs": [
    {
     "data": {
      "text/plain": [
       "164"
      ]
     },
     "execution_count": 2,
     "metadata": {},
     "output_type": "execute_result"
    }
   ],
   "source": [
    "sifrat = \"HGGQKABDSBUPCINYJDBUADUMGWJDXHJTOQOGBLVCWHAWLGQLVHVHGWZSHEZBUPNMSSGLQSSIZRXMEZBKWQWRTNPZAESQTRXKXQZXBTOVHKILDGGQTAOSZZAEGKZHTEYPVBGHWWOGBVWCWSZTTRXTHTFYPOTMPWNTTTEC\"\n",
    "len(sifrat)"
   ]
  },
  {
   "cell_type": "code",
   "execution_count": 9,
   "metadata": {},
   "outputs": [
    {
     "name": "stdout",
     "output_type": "stream",
     "text": [
      "1 109\n",
      "9 59\n",
      "34 134\n",
      "57 76\n",
      "87 117\n",
      "92 144\n"
     ]
    }
   ],
   "source": [
    "for i in range( len(sifrat) - 5 ):\n",
    "    for j in range( len(sifrat) - 5):\n",
    "        if j>=i:\n",
    "            if( sifrat[i] == sifrat[j + 3] and sifrat[i+1] == sifrat[j + 4] and sifrat[i+2] == sifrat[j + 5]):\n",
    "                print(i,j+3)"
   ]
  },
  {
   "cell_type": "markdown",
   "metadata": {},
   "source": [
    "Na 2 i 110 mjestu se nalazi GGQ (108). Na 10 i 60 je BUP(50). 35 i 135 su OGB(100). 58 i 77 su EZB(19). 88 i 118 su ZAE(30). 93 i 145 su TRX(52)."
   ]
  },
  {
   "cell_type": "code",
   "execution_count": 15,
   "metadata": {},
   "outputs": [],
   "source": [
    "def frekv( korak, k, rijec):\n",
    "    broj_slova = { \"A\" : 0,\n",
    "             \"B\" : 0,\n",
    "             \"C\" : 0,\n",
    "             \"D\" : 0,\n",
    "             \"E\" : 0,\n",
    "             \"F\" : 0,\n",
    "             \"G\" : 0,\n",
    "             \"H\" : 0,\n",
    "             \"I\" : 0,\n",
    "             \"J\" : 0,\n",
    "             \"K\" : 0,\n",
    "             \"L\" : 0,\n",
    "             \"M\" : 0,\n",
    "             \"N\" : 0,\n",
    "             \"O\" : 0,\n",
    "             \"P\" : 0,\n",
    "             \"Q\" : 0,\n",
    "             \"R\" : 0,\n",
    "             \"S\" : 0,\n",
    "             \"T\" : 0,\n",
    "             \"U\" : 0,\n",
    "             \"V\" : 0,\n",
    "             \"W\" : 0,\n",
    "             \"X\" : 0,\n",
    "             \"Y\" : 0,\n",
    "             \"Z\" : 0} \n",
    "    n = len( rijec ) // korak\n",
    "    index = 0\n",
    "    for i in range ( len( rijec )  // korak ):\n",
    "        broj_slova[ rijec[i*korak + k] ] += 1\n",
    "    if ( len( rijec ) % korak > k):\n",
    "        broj_slova[ rijec[(len( rijec ) // korak) * korak + k]]\n",
    "        n=n+1\n",
    "    for x in broj_slova:\n",
    "        index+=broj_slova[x]*(broj_slova[x] -1)\n",
    "    index = index/(n*(n-1))\n",
    "    print(index)"
   ]
  },
  {
   "cell_type": "code",
   "execution_count": 16,
   "metadata": {},
   "outputs": [
    {
     "name": "stdout",
     "output_type": "stream",
     "text": [
      "0.06628787878787878\n"
     ]
    }
   ],
   "source": [
    "frekv(5,0,sifrat)"
   ]
  },
  {
   "cell_type": "code",
   "execution_count": 17,
   "metadata": {},
   "outputs": [
    {
     "name": "stdout",
     "output_type": "stream",
     "text": [
      "0.05113636363636364\n"
     ]
    }
   ],
   "source": [
    "frekv(5,1,sifrat)"
   ]
  },
  {
   "cell_type": "code",
   "execution_count": 18,
   "metadata": {},
   "outputs": [
    {
     "name": "stdout",
     "output_type": "stream",
     "text": [
      "0.0625\n"
     ]
    }
   ],
   "source": [
    "frekv(5,2,sifrat)"
   ]
  },
  {
   "cell_type": "code",
   "execution_count": 19,
   "metadata": {},
   "outputs": [
    {
     "name": "stdout",
     "output_type": "stream",
     "text": [
      "0.04734848484848485\n"
     ]
    }
   ],
   "source": [
    "frekv(5,3,sifrat)"
   ]
  },
  {
   "cell_type": "code",
   "execution_count": 20,
   "metadata": {},
   "outputs": [
    {
     "name": "stdout",
     "output_type": "stream",
     "text": [
      "0.06451612903225806\n"
     ]
    }
   ],
   "source": [
    "frekv(5,4,sifrat)"
   ]
  },
  {
   "cell_type": "code",
   "execution_count": 21,
   "metadata": {},
   "outputs": [
    {
     "name": "stdout",
     "output_type": "stream",
     "text": [
      "0.0475609756097561\n"
     ]
    }
   ],
   "source": [
    "frekv(4,0,sifrat)"
   ]
  },
  {
   "cell_type": "code",
   "execution_count": 22,
   "metadata": {},
   "outputs": [
    {
     "name": "stdout",
     "output_type": "stream",
     "text": [
      "0.03902439024390244\n"
     ]
    }
   ],
   "source": [
    "frekv(4,1,sifrat)"
   ]
  },
  {
   "cell_type": "code",
   "execution_count": 23,
   "metadata": {},
   "outputs": [
    {
     "name": "stdout",
     "output_type": "stream",
     "text": [
      "0.045121951219512194\n"
     ]
    }
   ],
   "source": [
    "frekv(4,2,sifrat)"
   ]
  },
  {
   "cell_type": "code",
   "execution_count": 24,
   "metadata": {},
   "outputs": [
    {
     "name": "stdout",
     "output_type": "stream",
     "text": [
      "0.036585365853658534\n"
     ]
    }
   ],
   "source": [
    "frekv(4,3,sifrat)"
   ]
  },
  {
   "cell_type": "code",
   "execution_count": 25,
   "metadata": {},
   "outputs": [
    {
     "name": "stdout",
     "output_type": "stream",
     "text": [
      "0.04040404040404041\n"
     ]
    }
   ],
   "source": [
    "frekv(3,0,sifrat)"
   ]
  },
  {
   "cell_type": "code",
   "execution_count": 26,
   "metadata": {},
   "outputs": [
    {
     "name": "stdout",
     "output_type": "stream",
     "text": [
      "0.037037037037037035\n"
     ]
    }
   ],
   "source": [
    "frekv(3,1,sifrat)"
   ]
  },
  {
   "cell_type": "code",
   "execution_count": 27,
   "metadata": {},
   "outputs": [
    {
     "name": "stdout",
     "output_type": "stream",
     "text": [
      "0.039832285115303984\n"
     ]
    }
   ],
   "source": [
    "frekv(3,2,sifrat)"
   ]
  },
  {
   "cell_type": "code",
   "execution_count": 28,
   "metadata": {},
   "outputs": [
    {
     "name": "stdout",
     "output_type": "stream",
     "text": [
      "0.04546823246010238\n"
     ]
    }
   ],
   "source": [
    "frekv(2,0,sifrat)"
   ]
  },
  {
   "cell_type": "code",
   "execution_count": 29,
   "metadata": {},
   "outputs": [
    {
     "name": "stdout",
     "output_type": "stream",
     "text": [
      "0.04004817825956037\n"
     ]
    }
   ],
   "source": [
    "frekv(2,1,sifrat)"
   ]
  },
  {
   "cell_type": "markdown",
   "metadata": {},
   "source": [
    "Prema prethodnim rezultatima, najizglednije je da je m=5."
   ]
  },
  {
   "cell_type": "code",
   "execution_count": 30,
   "metadata": {},
   "outputs": [],
   "source": [
    "def frekv2( korak, k, rijec):\n",
    "    broj_slova = { \"A\" : 0,\n",
    "             \"B\" : 0,\n",
    "             \"C\" : 0,\n",
    "             \"D\" : 0,\n",
    "             \"E\" : 0,\n",
    "             \"F\" : 0,\n",
    "             \"G\" : 0,\n",
    "             \"H\" : 0,\n",
    "             \"I\" : 0,\n",
    "             \"J\" : 0,\n",
    "             \"K\" : 0,\n",
    "             \"L\" : 0,\n",
    "             \"M\" : 0,\n",
    "             \"N\" : 0,\n",
    "             \"O\" : 0,\n",
    "             \"P\" : 0,\n",
    "             \"Q\" : 0,\n",
    "             \"R\" : 0,\n",
    "             \"S\" : 0,\n",
    "             \"T\" : 0,\n",
    "             \"U\" : 0,\n",
    "             \"V\" : 0,\n",
    "             \"W\" : 0,\n",
    "             \"X\" : 0,\n",
    "             \"Y\" : 0,\n",
    "             \"Z\" : 0} \n",
    "    for i in range ( len( rijec )  // korak ):\n",
    "        broj_slova[ rijec[i*korak + k] ] += 1\n",
    "    if ( len( rijec ) % korak > k):\n",
    "        broj_slova[ rijec[(len( rijec ) // korak) * korak + k]]\n",
    "    print(broj_slova)"
   ]
  },
  {
   "cell_type": "code",
   "execution_count": 31,
   "metadata": {},
   "outputs": [
    {
     "name": "stdout",
     "output_type": "stream",
     "text": [
      "{'A': 2, 'B': 1, 'C': 0, 'D': 0, 'E': 1, 'F': 1, 'G': 6, 'H': 1, 'I': 0, 'J': 1, 'K': 2, 'L': 0, 'M': 2, 'N': 1, 'O': 0, 'P': 0, 'Q': 0, 'R': 1, 'S': 5, 'T': 0, 'U': 2, 'V': 1, 'W': 4, 'X': 0, 'Y': 1, 'Z': 0}\n"
     ]
    }
   ],
   "source": [
    "frekv2(5,0,sifrat)"
   ]
  },
  {
   "cell_type": "markdown",
   "metadata": {},
   "source": [
    "Probajmo sa w->o, x->p, y->q. k1= 18."
   ]
  },
  {
   "cell_type": "code",
   "execution_count": 32,
   "metadata": {},
   "outputs": [
    {
     "name": "stdout",
     "output_type": "stream",
     "text": [
      "{'A': 0, 'B': 3, 'C': 0, 'D': 1, 'E': 1, 'F': 0, 'G': 2, 'H': 4, 'I': 2, 'J': 2, 'K': 1, 'L': 0, 'M': 0, 'N': 0, 'O': 0, 'P': 4, 'Q': 4, 'R': 0, 'S': 1, 'T': 2, 'U': 0, 'V': 0, 'W': 0, 'X': 2, 'Y': 2, 'Z': 1}\n"
     ]
    }
   ],
   "source": [
    "frekv2(5,1,sifrat)"
   ]
  },
  {
   "cell_type": "markdown",
   "metadata": {},
   "source": [
    "k2 = 15 ili 16 ili 24"
   ]
  },
  {
   "cell_type": "code",
   "execution_count": 33,
   "metadata": {},
   "outputs": [
    {
     "name": "stdout",
     "output_type": "stream",
     "text": [
      "{'A': 1, 'B': 0, 'C': 1, 'D': 3, 'E': 1, 'F': 0, 'G': 2, 'H': 0, 'I': 0, 'J': 0, 'K': 0, 'L': 4, 'M': 0, 'N': 1, 'O': 2, 'P': 2, 'Q': 1, 'R': 0, 'S': 0, 'T': 3, 'U': 1, 'V': 1, 'W': 3, 'X': 0, 'Y': 0, 'Z': 6}\n"
     ]
    }
   ],
   "source": [
    "frekv2(5,2,sifrat)"
   ]
  },
  {
   "cell_type": "markdown",
   "metadata": {},
   "source": [
    "w -> h, x -> i, y -> j ili w -> i, x -> j, y -> k, k3= 11 ili 12 "
   ]
  },
  {
   "cell_type": "code",
   "execution_count": 34,
   "metadata": {},
   "outputs": [
    {
     "name": "stdout",
     "output_type": "stream",
     "text": [
      "{'A': 3, 'B': 2, 'C': 0, 'D': 1, 'E': 0, 'F': 0, 'G': 0, 'H': 2, 'I': 1, 'J': 0, 'K': 0, 'L': 0, 'M': 2, 'N': 1, 'O': 1, 'P': 0, 'Q': 3, 'R': 3, 'S': 1, 'T': 1, 'U': 0, 'V': 4, 'W': 4, 'X': 1, 'Y': 0, 'Z': 2}\n"
     ]
    }
   ],
   "source": [
    "frekv2(5,3, sifrat)"
   ]
  },
  {
   "cell_type": "markdown",
   "metadata": {},
   "source": [
    "Istom tehnikom k4 = 8 ili 13."
   ]
  },
  {
   "cell_type": "code",
   "execution_count": 36,
   "metadata": {},
   "outputs": [
    {
     "name": "stdout",
     "output_type": "stream",
     "text": [
      "{'A': 0, 'B': 3, 'C': 2, 'D': 0, 'E': 2, 'F': 0, 'G': 2, 'H': 3, 'I': 0, 'J': 0, 'K': 2, 'L': 1, 'M': 0, 'N': 1, 'O': 3, 'P': 0, 'Q': 0, 'R': 0, 'S': 2, 'T': 6, 'U': 1, 'V': 0, 'W': 0, 'X': 3, 'Y': 0, 'Z': 1}\n"
     ]
    }
   ],
   "source": [
    "frekv2(5,4,sifrat)"
   ]
  },
  {
   "cell_type": "markdown",
   "metadata": {},
   "source": [
    "k5 = 19"
   ]
  },
  {
   "cell_type": "code",
   "execution_count": 45,
   "metadata": {},
   "outputs": [],
   "source": [
    "def next_alpha(s):\n",
    "    return chr((ord(s.upper())+1 - 65) % 26 + 65)\n",
    "\n",
    "\n",
    "\n",
    "def desifriraj( k1, k2, k3, k4, k5, sifrat, korak):\n",
    "    tekst = \"\"\n",
    "    for i in range ( len( sifrat )  // korak ):\n",
    "        \n",
    "        for l in range( korak):\n",
    "            if( l == 0):\n",
    "                kl= k1\n",
    "            elif l==1:\n",
    "                kl = k2\n",
    "            elif l==2:\n",
    "                kl = k3\n",
    "            elif l==3:\n",
    "                kl = k4\n",
    "            elif l==4:\n",
    "                kl = k5\n",
    "            for k in range(kl):\n",
    "                if k == 0:\n",
    "                    new_alpha = sifrat[ i*korak + l ]\n",
    "                new_alpha = next_alpha( new_alpha )\n",
    "\n",
    "            tekst += new_alpha\n",
    "        \n",
    "        \n",
    "    for l in range(len( sifrat ) % korak ):\n",
    "        if( l == 0):\n",
    "            kl= k1\n",
    "        elif l==1:\n",
    "            kl = k2\n",
    "        elif l==2:\n",
    "            kl = k3\n",
    "        elif l==3:\n",
    "            kl = k4\n",
    "        elif l==4:\n",
    "            kl = k5\n",
    "        for k in range(kl):\n",
    "            if k == 0:\n",
    "                new_alpha = sifrat[ (len( sifrat ) // korak) * korak  + l ]\n",
    "            new_alpha = next_alpha( new_alpha )\n",
    "\n",
    "        tekst += new_alpha\n",
    "    print(tekst, len(tekst))\n",
    "    "
   ]
  },
  {
   "cell_type": "code",
   "execution_count": 47,
   "metadata": {},
   "outputs": [
    {
     "name": "stdout",
     "output_type": "stream",
     "text": [
      "PRVIRIMSKICARAUGUSTBIOJENEUSPOREDIVOMANJESPOSOBANODSVOGASTRICACEZARAIZATOJEUPOTREBLJAVAOSLABIJESIFREJEDNOSTAVNOBISVAKOSLOVOZAMJENIOSLOVOMKOJEDOLAZIIZANJEGAUALFABETU 164\n"
     ]
    }
   ],
   "source": [
    "desifriraj(26-18,26-15,26-11,26-8,26-19,sifrat,5)"
   ]
  },
  {
   "cell_type": "markdown",
   "metadata": {},
   "source": [
    "PRVI RIMSKI CAR AUGUST BIO JE NEUSPOREDIVO MANJE SPOSOBAN OD SVOGA STRICA CEZARA I ZATO JE UPOTREBLJAVAO SLABIJE SIFRE JEDNOSTAVNO BI SVAKO SLOVO ZAMJENIO SLOVOM KOJE DOLAZI IZA NJEGA U ALFABETU"
   ]
  },
  {
   "cell_type": "markdown",
   "metadata": {},
   "source": [
    "(k1,k2,k3,k4,k5) = (18,15,11,8,19)"
   ]
  }
 ],
 "metadata": {
  "kernelspec": {
   "display_name": "Python 3",
   "language": "python",
   "name": "python3"
  },
  "language_info": {
   "codemirror_mode": {
    "name": "ipython",
    "version": 3
   },
   "file_extension": ".py",
   "mimetype": "text/x-python",
   "name": "python",
   "nbconvert_exporter": "python",
   "pygments_lexer": "ipython3",
   "version": "3.7.7"
  }
 },
 "nbformat": 4,
 "nbformat_minor": 4
}
